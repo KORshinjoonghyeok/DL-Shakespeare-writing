{
  "nbformat": 4,
  "nbformat_minor": 0,
  "metadata": {
    "kernelspec": {
      "name": "python3",
      "display_name": "Python 3"
    },
    "colab": {
      "name": "Shakespeare writing.ipynb",
      "provenance": [],
      "include_colab_link": true
    },
    "accelerator": "GPU"
  },
  "cells": [
    {
      "cell_type": "markdown",
      "metadata": {
        "id": "view-in-github",
        "colab_type": "text"
      },
      "source": [
        "<a href=\"https://colab.research.google.com/github/KORshinjoonghyeok/Shakespeare-writing/blob/main/Shakespeare_writing.ipynb\" target=\"_parent\"><img src=\"https://colab.research.google.com/assets/colab-badge.svg\" alt=\"Open In Colab\"/></a>"
      ]
    },
    {
      "cell_type": "code",
      "metadata": {
        "id": "aPUThM1e53_c"
      },
      "source": [
        "import numpy as np\n",
        "import pandas as pd\n",
        "import tensorflow as tf\n",
        "import os\n",
        "import time\n",
        "import warnings\n",
        "warnings.filterwarnings('ignore')"
      ],
      "execution_count": 1,
      "outputs": []
    },
    {
      "cell_type": "markdown",
      "metadata": {
        "id": "AE5Zw6GW53_i"
      },
      "source": [
        "###### 데이터셋 다운로드"
      ]
    },
    {
      "cell_type": "code",
      "metadata": {
        "id": "gRfM1Od753_j",
        "outputId": "116b6b21-62e8-4c3c-8f7f-5f9786d19b74",
        "colab": {
          "base_uri": "https://localhost:8080/",
          "height": 52
        }
      },
      "source": [
        "path_to_file = tf.keras.utils.get_file('shakespeare.txt', 'https://storage.googleapis.com/download.tensorflow.org/data/shakespeare.txt')"
      ],
      "execution_count": 2,
      "outputs": [
        {
          "output_type": "stream",
          "text": [
            "Downloading data from https://storage.googleapis.com/download.tensorflow.org/data/shakespeare.txt\n",
            "1122304/1115394 [==============================] - 0s 0us/step\n"
          ],
          "name": "stdout"
        }
      ]
    },
    {
      "cell_type": "code",
      "metadata": {
        "id": "JkPwoWlA53_n"
      },
      "source": [
        "text = open(path_to_file, 'rb').read().decode(encoding='utf-8')"
      ],
      "execution_count": 3,
      "outputs": []
    },
    {
      "cell_type": "code",
      "metadata": {
        "id": "TrHSlo0a53_q",
        "outputId": "f1cb52f4-b1f2-426a-f9a1-4a79f83b45a5",
        "colab": {
          "base_uri": "https://localhost:8080/",
          "height": 263
        }
      },
      "source": [
        "print(text[:200])"
      ],
      "execution_count": 4,
      "outputs": [
        {
          "output_type": "stream",
          "text": [
            "First Citizen:\n",
            "Before we proceed any further, hear me speak.\n",
            "\n",
            "All:\n",
            "Speak, speak.\n",
            "\n",
            "First Citizen:\n",
            "You are all resolved rather to die than to famish?\n",
            "\n",
            "All:\n",
            "Resolved. resolved.\n",
            "\n",
            "First Citizen:\n",
            "First, you\n"
          ],
          "name": "stdout"
        }
      ]
    },
    {
      "cell_type": "markdown",
      "metadata": {
        "id": "1woxJ0vC53_s"
      },
      "source": [
        "###### 화이트 스페이스 포함 출력"
      ]
    },
    {
      "cell_type": "code",
      "metadata": {
        "id": "n1MEulNI53_t",
        "outputId": "9fa62f35-3208-4618-eb71-1a5324f6262e",
        "colab": {
          "base_uri": "https://localhost:8080/",
          "height": 54
        }
      },
      "source": [
        "print(repr(text[:200]))"
      ],
      "execution_count": 5,
      "outputs": [
        {
          "output_type": "stream",
          "text": [
            "'First Citizen:\\nBefore we proceed any further, hear me speak.\\n\\nAll:\\nSpeak, speak.\\n\\nFirst Citizen:\\nYou are all resolved rather to die than to famish?\\n\\nAll:\\nResolved. resolved.\\n\\nFirst Citizen:\\nFirst, you'\n"
          ],
          "name": "stdout"
        }
      ]
    },
    {
      "cell_type": "code",
      "metadata": {
        "id": "ZPy0yTAq53_v",
        "outputId": "e4660331-ca2b-4107-c8d0-017a8d8ba109",
        "colab": {
          "base_uri": "https://localhost:8080/",
          "height": 34
        }
      },
      "source": [
        "#총 문장 길이\n",
        "len(text)"
      ],
      "execution_count": 6,
      "outputs": [
        {
          "output_type": "execute_result",
          "data": {
            "text/plain": [
              "1115394"
            ]
          },
          "metadata": {
            "tags": []
          },
          "execution_count": 6
        }
      ]
    },
    {
      "cell_type": "markdown",
      "metadata": {
        "id": "f_KnGbaX53_x"
      },
      "source": [
        "###### 데이터셋의 텍스트를 정렬후 vocab에 저장"
      ]
    },
    {
      "cell_type": "code",
      "metadata": {
        "id": "m6Exlwzi53_y"
      },
      "source": [
        "vocab = sorted(set(text))"
      ],
      "execution_count": 7,
      "outputs": []
    },
    {
      "cell_type": "code",
      "metadata": {
        "id": "WSknFkAj53_0",
        "outputId": "442e05f3-bc22-4fb7-8fe0-b14baebb5c5d",
        "colab": {
          "base_uri": "https://localhost:8080/",
          "height": 34
        }
      },
      "source": [
        "vocab[:10]"
      ],
      "execution_count": 8,
      "outputs": [
        {
          "output_type": "execute_result",
          "data": {
            "text/plain": [
              "['\\n', ' ', '!', '$', '&', \"'\", ',', '-', '.', '3']"
            ]
          },
          "metadata": {
            "tags": []
          },
          "execution_count": 8
        }
      ]
    },
    {
      "cell_type": "markdown",
      "metadata": {
        "id": "gnS4bEFY53_3"
      },
      "source": [
        "###### 텍스트에 총 사용된 캐릭터 갯수"
      ]
    },
    {
      "cell_type": "code",
      "metadata": {
        "id": "j7Qvd1u253_3",
        "outputId": "d50f3de2-b3cb-4845-e52e-994a19419e8f",
        "colab": {
          "base_uri": "https://localhost:8080/",
          "height": 34
        }
      },
      "source": [
        "len(vocab)"
      ],
      "execution_count": 9,
      "outputs": [
        {
          "output_type": "execute_result",
          "data": {
            "text/plain": [
              "65"
            ]
          },
          "metadata": {
            "tags": []
          },
          "execution_count": 9
        }
      ]
    },
    {
      "cell_type": "markdown",
      "metadata": {
        "id": "tPLXIWIl53_5"
      },
      "source": [
        "### Preprocessing"
      ]
    },
    {
      "cell_type": "markdown",
      "metadata": {
        "id": "d5mh_aFL53_5"
      },
      "source": [
        "##### 각 캐릭터에 인덱스 부여\n",
        "######  -  enumerate : 순서가 있는 자료형의 index번호 와 index값 을 반환하는 함수"
      ]
    },
    {
      "cell_type": "code",
      "metadata": {
        "id": "27kcquJL53_6"
      },
      "source": [
        "char2idx = {u: i for i, u in enumerate(vocab)}"
      ],
      "execution_count": 10,
      "outputs": []
    },
    {
      "cell_type": "code",
      "metadata": {
        "id": "IuAbLGG753_9",
        "outputId": "37287113-ba07-4d71-f88b-870ed0ba0698",
        "colab": {
          "base_uri": "https://localhost:8080/",
          "height": 1000
        }
      },
      "source": [
        "char2idx"
      ],
      "execution_count": 11,
      "outputs": [
        {
          "output_type": "execute_result",
          "data": {
            "text/plain": [
              "{'\\n': 0,\n",
              " ' ': 1,\n",
              " '!': 2,\n",
              " '$': 3,\n",
              " '&': 4,\n",
              " \"'\": 5,\n",
              " ',': 6,\n",
              " '-': 7,\n",
              " '.': 8,\n",
              " '3': 9,\n",
              " ':': 10,\n",
              " ';': 11,\n",
              " '?': 12,\n",
              " 'A': 13,\n",
              " 'B': 14,\n",
              " 'C': 15,\n",
              " 'D': 16,\n",
              " 'E': 17,\n",
              " 'F': 18,\n",
              " 'G': 19,\n",
              " 'H': 20,\n",
              " 'I': 21,\n",
              " 'J': 22,\n",
              " 'K': 23,\n",
              " 'L': 24,\n",
              " 'M': 25,\n",
              " 'N': 26,\n",
              " 'O': 27,\n",
              " 'P': 28,\n",
              " 'Q': 29,\n",
              " 'R': 30,\n",
              " 'S': 31,\n",
              " 'T': 32,\n",
              " 'U': 33,\n",
              " 'V': 34,\n",
              " 'W': 35,\n",
              " 'X': 36,\n",
              " 'Y': 37,\n",
              " 'Z': 38,\n",
              " 'a': 39,\n",
              " 'b': 40,\n",
              " 'c': 41,\n",
              " 'd': 42,\n",
              " 'e': 43,\n",
              " 'f': 44,\n",
              " 'g': 45,\n",
              " 'h': 46,\n",
              " 'i': 47,\n",
              " 'j': 48,\n",
              " 'k': 49,\n",
              " 'l': 50,\n",
              " 'm': 51,\n",
              " 'n': 52,\n",
              " 'o': 53,\n",
              " 'p': 54,\n",
              " 'q': 55,\n",
              " 'r': 56,\n",
              " 's': 57,\n",
              " 't': 58,\n",
              " 'u': 59,\n",
              " 'v': 60,\n",
              " 'w': 61,\n",
              " 'x': 62,\n",
              " 'y': 63,\n",
              " 'z': 64}"
            ]
          },
          "metadata": {
            "tags": []
          },
          "execution_count": 11
        }
      ]
    },
    {
      "cell_type": "markdown",
      "metadata": {
        "id": "phDUwqJz53__"
      },
      "source": [
        "##### index -> Char"
      ]
    },
    {
      "cell_type": "code",
      "metadata": {
        "id": "JK2z7EEy53__"
      },
      "source": [
        "idx2char = np.array(vocab)"
      ],
      "execution_count": 12,
      "outputs": []
    },
    {
      "cell_type": "markdown",
      "metadata": {
        "id": "Bwj3u_WX54AB"
      },
      "source": [
        "###### - 49번째 index에 해당하는 char = 'k'"
      ]
    },
    {
      "cell_type": "code",
      "metadata": {
        "id": "5rr-Ajor54AB",
        "outputId": "6dcd4bb5-14a7-4d82-884b-1a722734e2be",
        "colab": {
          "base_uri": "https://localhost:8080/",
          "height": 35
        }
      },
      "source": [
        "idx2char[49]"
      ],
      "execution_count": 13,
      "outputs": [
        {
          "output_type": "execute_result",
          "data": {
            "application/vnd.google.colaboratory.intrinsic+json": {
              "type": "string"
            },
            "text/plain": [
              "'k'"
            ]
          },
          "metadata": {
            "tags": []
          },
          "execution_count": 13
        }
      ]
    },
    {
      "cell_type": "code",
      "metadata": {
        "id": "1-x-8_LD54AE",
        "outputId": "8409cf2b-f9c8-48c1-ac7c-398a35e36101",
        "colab": {
          "base_uri": "https://localhost:8080/",
          "height": 53
        }
      },
      "source": [
        "text[:200]"
      ],
      "execution_count": 14,
      "outputs": [
        {
          "output_type": "execute_result",
          "data": {
            "application/vnd.google.colaboratory.intrinsic+json": {
              "type": "string"
            },
            "text/plain": [
              "'First Citizen:\\nBefore we proceed any further, hear me speak.\\n\\nAll:\\nSpeak, speak.\\n\\nFirst Citizen:\\nYou are all resolved rather to die than to famish?\\n\\nAll:\\nResolved. resolved.\\n\\nFirst Citizen:\\nFirst, you'"
            ]
          },
          "metadata": {
            "tags": []
          },
          "execution_count": 14
        }
      ]
    },
    {
      "cell_type": "code",
      "metadata": {
        "id": "Kgmm42aL54AG",
        "outputId": "7f2573a7-9d40-493d-a910-fa248b4db7cb",
        "colab": {
          "base_uri": "https://localhost:8080/",
          "height": 34
        }
      },
      "source": [
        "char2idx['i']"
      ],
      "execution_count": 15,
      "outputs": [
        {
          "output_type": "execute_result",
          "data": {
            "text/plain": [
              "47"
            ]
          },
          "metadata": {
            "tags": []
          },
          "execution_count": 15
        }
      ]
    },
    {
      "cell_type": "markdown",
      "metadata": {
        "id": "_zUNVT4h54AI"
      },
      "source": [
        "###### 전체 text -> int"
      ]
    },
    {
      "cell_type": "code",
      "metadata": {
        "id": "oJfIFojm54AI"
      },
      "source": [
        "text_as_int = np.array([char2idx[c] for c in text])"
      ],
      "execution_count": 16,
      "outputs": []
    },
    {
      "cell_type": "markdown",
      "metadata": {
        "id": "H4CdnNJU54AK"
      },
      "source": [
        "###### - 총 문자열 길이와 동일"
      ]
    },
    {
      "cell_type": "code",
      "metadata": {
        "id": "Z7SFehua54AK",
        "outputId": "607520b8-bdf5-4619-be19-87136d57ff4c",
        "colab": {
          "base_uri": "https://localhost:8080/",
          "height": 34
        }
      },
      "source": [
        "len(text_as_int)"
      ],
      "execution_count": 17,
      "outputs": [
        {
          "output_type": "execute_result",
          "data": {
            "text/plain": [
              "1115394"
            ]
          },
          "metadata": {
            "tags": []
          },
          "execution_count": 17
        }
      ]
    },
    {
      "cell_type": "code",
      "metadata": {
        "id": "qWwE5ZwA54AN",
        "outputId": "4e151613-f365-4037-e1df-a3e8a9a06335",
        "colab": {
          "base_uri": "https://localhost:8080/",
          "height": 34
        }
      },
      "source": [
        "text_as_int[:10]"
      ],
      "execution_count": 18,
      "outputs": [
        {
          "output_type": "execute_result",
          "data": {
            "text/plain": [
              "array([18, 47, 56, 57, 58,  1, 15, 47, 58, 47])"
            ]
          },
          "metadata": {
            "tags": []
          },
          "execution_count": 18
        }
      ]
    },
    {
      "cell_type": "markdown",
      "metadata": {
        "id": "nZyfoOQP54AQ"
      },
      "source": [
        "###### - 원본 문자열과 변환된 시퀀스 비교"
      ]
    },
    {
      "cell_type": "code",
      "metadata": {
        "id": "qcs4fwdo54AQ",
        "outputId": "1e8a4f57-7a71-479e-d5df-56eaa712968f",
        "colab": {
          "base_uri": "https://localhost:8080/",
          "height": 34
        }
      },
      "source": [
        "#원본 문자열과 변환된 시퀀스\n",
        "print(text[:5],text_as_int[:5])"
      ],
      "execution_count": 19,
      "outputs": [
        {
          "output_type": "stream",
          "text": [
            "First [18 47 56 57 58]\n"
          ],
          "name": "stdout"
        }
      ]
    },
    {
      "cell_type": "code",
      "metadata": {
        "id": "-2juEX2754AS",
        "outputId": "07cc4e78-675b-4a64-e6a0-5f0a487fefaf",
        "colab": {
          "base_uri": "https://localhost:8080/",
          "height": 34
        }
      },
      "source": [
        "#단어사전 출력\n",
        "char2idx['F'],char2idx['i'],char2idx['r'],char2idx['s'],char2idx['t']"
      ],
      "execution_count": 20,
      "outputs": [
        {
          "output_type": "execute_result",
          "data": {
            "text/plain": [
              "(18, 47, 56, 57, 58)"
            ]
          },
          "metadata": {
            "tags": []
          },
          "execution_count": 20
        }
      ]
    },
    {
      "cell_type": "markdown",
      "metadata": {
        "id": "0Ei6PFCm54AU"
      },
      "source": [
        "###### - 동일"
      ]
    },
    {
      "cell_type": "markdown",
      "metadata": {
        "id": "AwqXY19j54AU"
      },
      "source": [
        "---\n",
        "---\n",
        "---"
      ]
    },
    {
      "cell_type": "markdown",
      "metadata": {
        "id": "DAEBVbti54AV"
      },
      "source": [
        "###### Generate X,y dataset"
      ]
    },
    {
      "cell_type": "code",
      "metadata": {
        "id": "27Lt4Z7454AV"
      },
      "source": [
        "# 단일 입력에 대해 원하는 문장의 최대길이\n",
        "window_size = 100\n",
        "shuffle_buffer = 10000\n",
        "batch_size=64"
      ],
      "execution_count": 21,
      "outputs": []
    },
    {
      "cell_type": "markdown",
      "metadata": {
        "id": "Q-da5P7754AX"
      },
      "source": [
        "###### if 'h','e','l','l'\n",
        "###### pred 'e','l','l','o'"
      ]
    },
    {
      "cell_type": "code",
      "metadata": {
        "id": "qqFyozz254AX"
      },
      "source": [
        "def windowed_dataset(series, window_size, shuffle_buffer, batch_size):\n",
        "    series = tf.expand_dims(series, -1) #차원 확장\n",
        "    ds = tf.data.Dataset.from_tensor_slices(series)\n",
        "    ds = ds.window(window_size + 1, shift=1, drop_remainder=True) #윈도우사이즈 +1\n",
        "    ds = ds.flat_map(lambda x: x.batch(window_size + 1))\n",
        "    ds = ds.shuffle(shuffle_buffer)\n",
        "    ds = ds.map(lambda x: (x[:-1], x[1:]))\n",
        "    return ds.batch(batch_size).prefetch(1)"
      ],
      "execution_count": 22,
      "outputs": []
    },
    {
      "cell_type": "code",
      "metadata": {
        "id": "AI7XN4ZL54AZ"
      },
      "source": [
        "train_data = windowed_dataset(np.array(text_as_int), window_size, shuffle_buffer, batch_size)"
      ],
      "execution_count": 23,
      "outputs": []
    },
    {
      "cell_type": "code",
      "metadata": {
        "id": "MZi0klQw54Ab",
        "outputId": "7d17eddf-7e6e-4a56-d5ea-4cdbbb6c39fd",
        "colab": {
          "base_uri": "https://localhost:8080/",
          "height": 34
        }
      },
      "source": [
        "vocab_size = len(vocab)\n",
        "vocab_size"
      ],
      "execution_count": 24,
      "outputs": [
        {
          "output_type": "execute_result",
          "data": {
            "text/plain": [
              "65"
            ]
          },
          "metadata": {
            "tags": []
          },
          "execution_count": 24
        }
      ]
    },
    {
      "cell_type": "code",
      "metadata": {
        "id": "v9Ty1gde54Ad"
      },
      "source": [
        "#임베딩할 vector차원\n",
        "embedding_dim = 256\n",
        "\n",
        "# RNN unit count\n",
        "rnn_units = 1024"
      ],
      "execution_count": 25,
      "outputs": []
    },
    {
      "cell_type": "code",
      "metadata": {
        "id": "4jaT5rP254Af"
      },
      "source": [
        "model = tf.keras.Sequential([\n",
        "    tf.keras.layers.Embedding(vocab_size, embedding_dim,\n",
        "                              batch_input_shape=[batch_size, None]),\n",
        "    tf.keras.layers.LSTM(rnn_units,\n",
        "                        return_sequences=True,\n",
        "                        stateful=True,\n",
        "                        recurrent_initializer='glorot_uniform'),\n",
        "    tf.keras.layers.Dense(vocab_size)\n",
        "])"
      ],
      "execution_count": 26,
      "outputs": []
    },
    {
      "cell_type": "code",
      "metadata": {
        "id": "GOYc2eC454Ah",
        "outputId": "05608a5a-db7e-416f-8fa0-6ff4b32b8a28",
        "colab": {
          "base_uri": "https://localhost:8080/",
          "height": 263
        }
      },
      "source": [
        "model.summary()"
      ],
      "execution_count": 27,
      "outputs": [
        {
          "output_type": "stream",
          "text": [
            "Model: \"sequential\"\n",
            "_________________________________________________________________\n",
            "Layer (type)                 Output Shape              Param #   \n",
            "=================================================================\n",
            "embedding (Embedding)        (64, None, 256)           16640     \n",
            "_________________________________________________________________\n",
            "lstm (LSTM)                  (64, None, 1024)          5246976   \n",
            "_________________________________________________________________\n",
            "dense (Dense)                (64, None, 65)            66625     \n",
            "=================================================================\n",
            "Total params: 5,330,241\n",
            "Trainable params: 5,330,241\n",
            "Non-trainable params: 0\n",
            "_________________________________________________________________\n"
          ],
          "name": "stdout"
        }
      ]
    },
    {
      "cell_type": "code",
      "metadata": {
        "id": "bqfLefln54Ai"
      },
      "source": [
        "checkpoint_path = './models/my_checkpt.ckpt'\n",
        "\n",
        "checkpoint_callback=tf.keras.callbacks.ModelCheckpoint(\n",
        "    filepath=checkpoint_path,\n",
        "    save_weights_only=True, \n",
        "    save_best_only=True,\n",
        "    monitor='loss', \n",
        "    verbose=1, \n",
        ")"
      ],
      "execution_count": 28,
      "outputs": []
    },
    {
      "cell_type": "code",
      "metadata": {
        "id": "ehscFqJb54Al"
      },
      "source": [
        "def loss(labels, logits):\n",
        "    return tf.keras.losses.sparse_categorical_crossentropy(labels, logits, from_logits=True) "
      ],
      "execution_count": 29,
      "outputs": []
    },
    {
      "cell_type": "code",
      "metadata": {
        "id": "OtVM-3I_54An"
      },
      "source": [
        "model.compile(optimizer='adam', loss=loss, metrics=['acc'])"
      ],
      "execution_count": 30,
      "outputs": []
    },
    {
      "cell_type": "markdown",
      "metadata": {
        "id": "RMh5Qe9p54Ao"
      },
      "source": [
        "###### fit"
      ]
    },
    {
      "cell_type": "code",
      "metadata": {
        "scrolled": false,
        "id": "Bac_lr9g54Ao",
        "outputId": "045ef398-2766-4467-cc37-eb1e728ef78d",
        "colab": {
          "base_uri": "https://localhost:8080/",
          "height": 738
        }
      },
      "source": [
        "model.fit(train_data, \n",
        "          epochs=10, \n",
        "          steps_per_epoch=1720, \n",
        "          callbacks=[checkpoint_callback])"
      ],
      "execution_count": 31,
      "outputs": [
        {
          "output_type": "stream",
          "text": [
            "Epoch 1/10\n",
            "1720/1720 [==============================] - ETA: 0s - loss: 0.6691 - acc: 0.8333\n",
            "Epoch 00001: loss improved from inf to 0.66912, saving model to ./models/my_checkpt.ckpt\n",
            "1720/1720 [==============================] - 125s 73ms/step - loss: 0.6691 - acc: 0.8333\n",
            "Epoch 2/10\n",
            "1720/1720 [==============================] - ETA: 0s - loss: 0.3092 - acc: 0.9306\n",
            "Epoch 00002: loss improved from 0.66912 to 0.30924, saving model to ./models/my_checkpt.ckpt\n",
            "1720/1720 [==============================] - 128s 74ms/step - loss: 0.3092 - acc: 0.9306\n",
            "Epoch 3/10\n",
            "1720/1720 [==============================] - ETA: 0s - loss: 0.2824 - acc: 0.9363\n",
            "Epoch 00003: loss improved from 0.30924 to 0.28242, saving model to ./models/my_checkpt.ckpt\n",
            "1720/1720 [==============================] - 128s 74ms/step - loss: 0.2824 - acc: 0.9363\n",
            "Epoch 4/10\n",
            "1720/1720 [==============================] - ETA: 0s - loss: 0.2821 - acc: 0.9363\n",
            "Epoch 00004: loss improved from 0.28242 to 0.28205, saving model to ./models/my_checkpt.ckpt\n",
            "1720/1720 [==============================] - 127s 74ms/step - loss: 0.2821 - acc: 0.9363\n",
            "Epoch 5/10\n",
            "1720/1720 [==============================] - ETA: 0s - loss: 0.2890 - acc: 0.9352\n",
            "Epoch 00005: loss did not improve from 0.28205\n",
            "1720/1720 [==============================] - 126s 73ms/step - loss: 0.2890 - acc: 0.9352\n",
            "Epoch 6/10\n",
            "1720/1720 [==============================] - ETA: 0s - loss: 0.2832 - acc: 0.9365\n",
            "Epoch 00006: loss did not improve from 0.28205\n",
            "1720/1720 [==============================] - 126s 73ms/step - loss: 0.2832 - acc: 0.9365\n",
            "Epoch 7/10\n",
            "1720/1720 [==============================] - ETA: 0s - loss: 0.2938 - acc: 0.9344\n",
            "Epoch 00007: loss did not improve from 0.28205\n",
            "1720/1720 [==============================] - 126s 73ms/step - loss: 0.2938 - acc: 0.9344\n",
            "Epoch 8/10\n",
            "1720/1720 [==============================] - ETA: 0s - loss: 0.2991 - acc: 0.9337\n",
            "Epoch 00008: loss did not improve from 0.28205\n",
            "1720/1720 [==============================] - 126s 73ms/step - loss: 0.2991 - acc: 0.9337\n",
            "Epoch 9/10\n",
            "1720/1720 [==============================] - ETA: 0s - loss: 0.2977 - acc: 0.9342\n",
            "Epoch 00009: loss did not improve from 0.28205\n",
            "1720/1720 [==============================] - 126s 73ms/step - loss: 0.2977 - acc: 0.9342\n",
            "Epoch 10/10\n",
            "1720/1720 [==============================] - ETA: 0s - loss: 0.3036 - acc: 0.9329\n",
            "Epoch 00010: loss did not improve from 0.28205\n",
            "1720/1720 [==============================] - 127s 74ms/step - loss: 0.3036 - acc: 0.9329\n"
          ],
          "name": "stdout"
        },
        {
          "output_type": "execute_result",
          "data": {
            "text/plain": [
              "<tensorflow.python.keras.callbacks.History at 0x7f2615790208>"
            ]
          },
          "metadata": {
            "tags": []
          },
          "execution_count": 31
        }
      ]
    },
    {
      "cell_type": "code",
      "metadata": {
        "id": "m7Mrhd1D54Aq"
      },
      "source": [
        "#모델 재정의\n",
        "model = tf.keras.Sequential([\n",
        "    tf.keras.layers.Embedding(vocab_size, embedding_dim,\n",
        "                              batch_input_shape=[1, None]),\n",
        "    tf.keras.layers.LSTM(rnn_units,\n",
        "                        return_sequences=True,\n",
        "                        stateful=True,\n",
        "                        recurrent_initializer='glorot_uniform'),\n",
        "    tf.keras.layers.Dense(vocab_size)\n",
        "])"
      ],
      "execution_count": 32,
      "outputs": []
    },
    {
      "cell_type": "code",
      "metadata": {
        "id": "UuDG9mrX54As",
        "outputId": "00629e8b-296c-44b9-c74f-9c66ad56e4c2",
        "colab": {
          "base_uri": "https://localhost:8080/",
          "height": 34
        }
      },
      "source": [
        "model.load_weights(checkpoint_path)"
      ],
      "execution_count": 33,
      "outputs": [
        {
          "output_type": "execute_result",
          "data": {
            "text/plain": [
              "<tensorflow.python.training.tracking.util.CheckpointLoadStatus at 0x7f257ff23908>"
            ]
          },
          "metadata": {
            "tags": []
          },
          "execution_count": 33
        }
      ]
    },
    {
      "cell_type": "code",
      "metadata": {
        "id": "o88ZPY_G54Au"
      },
      "source": [
        "model.build(tf.TensorShape([1, None]))"
      ],
      "execution_count": 34,
      "outputs": []
    },
    {
      "cell_type": "code",
      "metadata": {
        "id": "LydGg_qk54Aw",
        "outputId": "255b33e3-c8e9-4b7b-850b-31f2d78d7657",
        "colab": {
          "base_uri": "https://localhost:8080/",
          "height": 263
        }
      },
      "source": [
        "model.summary()"
      ],
      "execution_count": 35,
      "outputs": [
        {
          "output_type": "stream",
          "text": [
            "Model: \"sequential_1\"\n",
            "_________________________________________________________________\n",
            "Layer (type)                 Output Shape              Param #   \n",
            "=================================================================\n",
            "embedding_1 (Embedding)      (1, None, 256)            16640     \n",
            "_________________________________________________________________\n",
            "lstm_1 (LSTM)                (1, None, 1024)           5246976   \n",
            "_________________________________________________________________\n",
            "dense_1 (Dense)              (1, None, 65)             66625     \n",
            "=================================================================\n",
            "Total params: 5,330,241\n",
            "Trainable params: 5,330,241\n",
            "Non-trainable params: 0\n",
            "_________________________________________________________________\n"
          ],
          "name": "stdout"
        }
      ]
    },
    {
      "cell_type": "code",
      "metadata": {
        "id": "uUHNcJnw54Az"
      },
      "source": [
        "def generate_text(model, start_string):\n",
        "    # 평가 단계 (학습된 모델을 사용하여 텍스트 생성)\n",
        "\n",
        "    # 생성할 문자의 수\n",
        "    num_generate = 10000\n",
        "\n",
        "    # 시작 문자열을 숫자로 변환(벡터화)\n",
        "    input_eval = [char2idx[s] for s in start_string]\n",
        "    input_eval = tf.expand_dims(input_eval, 0)\n",
        "\n",
        "    # 결과를 저장할 빈 문자열\n",
        "    text_generated = []\n",
        "\n",
        "    # 온도가 낮으면 더 예측 가능한 텍스트가 됩니다.\n",
        "    # 온도가 높으면 더 의외의 텍스트가 됩니다.\n",
        "    # 최적의 세팅을 찾기 위한 실험\n",
        "    temperature = 1.0\n",
        "\n",
        "    # 여기에서 배치 크기 == 1\n",
        "    model.reset_states()\n",
        "    for i in range(num_generate):\n",
        "        predictions = model(input_eval)\n",
        "        # 배치 차원 제거\n",
        "        predictions = tf.squeeze(predictions, 0)\n",
        "\n",
        "        # 범주형 분포를 사용하여 모델에서 리턴한 단어 예측\n",
        "        predictions = predictions / temperature\n",
        "        predicted_id = tf.random.categorical(predictions, num_samples=1)[-1,0].numpy()\n",
        "\n",
        "        # 예측된 단어를 다음 입력으로 모델에 전달\n",
        "        # 이전 은닉 상태와 함께\n",
        "        input_eval = tf.expand_dims([predicted_id], 0)\n",
        "\n",
        "        text_generated.append(idx2char[predicted_id])\n",
        "\n",
        "    return (start_string + ''.join(text_generated))"
      ],
      "execution_count": 36,
      "outputs": []
    },
    {
      "cell_type": "code",
      "metadata": {
        "id": "fJZm6uhM54A1",
        "outputId": "03861a22-50b3-4fc2-86e4-f0c6c014f376",
        "colab": {
          "base_uri": "https://localhost:8080/",
          "height": 1000
        }
      },
      "source": [
        "print(generate_text(model, start_string=u\"ROMEO: \"))"
      ],
      "execution_count": 37,
      "outputs": [
        {
          "output_type": "stream",
          "text": [
            "ROMEO: of kingly doomers.\n",
            "\n",
            "MONTAGUE:\n",
            "Recousin.\n",
            "\n",
            "ROMEO:\n",
            "Is that this deed is chronicle,\n",
            "Not like to the sentence of you be long'st a traitor sortune sounding\n",
            "And he heart not love, deposed\n",
            "Thin, ds thou hadur pengly, like a dial's point,\n",
            "Is the at am I king;\n",
            "Then treasons I would not have seen.\n",
            "\n",
            "DUKE OF YORK:\n",
            "Which for show thy head by day nor light.\n",
            "Lords, I protest, my so, streed,\n",
            "With close contentedious;\n",
            "Even so, for with a kiss 'twas made no this before the worshipp'd sun\n",
            "Peer'd forth the golden window of the east,\n",
            "A troubled,\n",
            "Saddle of any man or maid of Montague's.\n",
            "\n",
            "GREGORY:\n",
            "That shows thee a horse.\n",
            "Shall feel while I am able to stand: and\n",
            "'tis known I am a pretty piece of flesh.\n",
            "\n",
            "GREGORY:\n",
            "'Tis well thou art wont to do.\n",
            "\n",
            "Keeper:\n",
            "My lord, they' the air,\n",
            "Or rd Salisbury, Blunt, and Kent:\n",
            "The manner of their takinuash the as is such less hisse myseless good,\n",
            "So far from sounding and discovery,\n",
            "As is the bud bit with an envious worm,\n",
            "Ere he can spread his sweet leaves toward,\n",
            "Astiscovery, kindly and my mon that Bolingbroke?\n",
            "Gade, here to the last; like silly beggars himself,\n",
            "Shuts up his windows, locks far daylight out\n",
            "And makes himself an artificial first, and antid his sweet leavest old,\n",
            "It is done.\n",
            "\n",
            "SOMOOY:\n",
            "So far off their faitherfruze his wrid,\n",
            "As freely to the ground,\n",
            "And hear the sentence of his pride.\n",
            "\n",
            "HENRY BOLINGBROKE:\n",
            "Carlisle, this is your doom:\n",
            "Choose out some secret place, some reverend roo such kntelling majesty.\n",
            "My gracious lord, I do not so, for with net his sweet leaves to the air,\n",
            "Or dedicate his beauty to the sun.\n",
            "Could we but learn from whence his bood!\n",
            "\n",
            "pardon me.\n",
            "\n",
            "DUCHESS OF YORK:\n",
            "O happy vantage of a kneeling knee!\n",
            "Yet am I sick for fear: speak it again;\n",
            "Twice slain; no word itself\n",
            "Against the word:\n",
            "As I have? at not.\n",
            "\n",
            "DUKE OF SUMPSON:\n",
            "A dog of that house shall move me to stand:\n",
            "I was a poor groom off fortune's slaves,\n",
            "Nor shall not be the last; like silly beggars\n",
            "Who sit of fear.\n",
            "What come to hellish murderer, love him murdered.\n",
            "The give thy oather, sir.\n",
            "\n",
            "ROMEO:\n",
            "A clease the law of our sturn thee, Benvoy by myself--I will not say how true--\n",
            "But he, in the cause?\n",
            "\n",
            "MON:\n",
            "ABRAHAM:\n",
            "Qo sleep when we hear?\n",
            "'Tis all shine ow with the Capulet,--Hold me not, led me not sagainst the word:\n",
            "As thus, 'Come\n",
            "To way what a thou art none doth the ground they give this heart that is not chard the grave;\n",
            "But here did I see your son:\n",
            "Towards him I made, but he was watery break the much, e'emselves and do them as thorn.\n",
            "\n",
            "DUKE OF AUMERLE:\n",
            "You have been so that sade a king;\n",
            "In husbate,\n",
            "And so I was better world,\n",
            "That you do.\n",
            "\n",
            "TYBALT:\n",
            "What, art thou drawn among theseth kinsmen digg'd their graves, which in the maids?\n",
            "\n",
            "MONTAGUE:\n",
            "On wontenwise me; let them begin.\n",
            "\n",
            "GREGORY:\n",
            "I will frown as I pass by, and let them take it as\n",
            "they list.\n",
            "\n",
            "SOMORY:\n",
            "After, some two of the day's ride must me not: he day smy and will far fle from so fatt son him from the king, commands turn grow\n",
            "With at many say am I king of snome streets, that coronation-day,\n",
            "When Bolingbroke rode on roan Barbary,\n",
            "That horse that thou so offence;\n",
            "For thee to the sun.\n",
            "Could we but learn from whence his sorrows grow.\n",
            "What neither my good word nor princely favour:\n",
            "With Cain go wander through shades of night,\n",
            "that doach me in his life; giving him breath,\n",
            "The traitor lives, the bad of Montague's.\n",
            "\n",
            "MONTy be the lust his blade in spite of me.\n",
            "\n",
            "MONTAGUE:\n",
            "Thou villain Capulet,--Hold me not, let me go.\n",
            "\n",
            "LADY MONTAGUE:\n",
            "Thou shalt not stir a foot to seek a foe.\n",
            "\n",
            "PRINCE:\n",
            "Rebellion as the happy vierle we will find a kind of ease,\n",
            "Bearing their own misfortune live?\n",
            "\n",
            "Groom:\n",
            "I was a straight Our show us to read his changed quench the fire of your pernicious rage\n",
            "With purple fountains issuing from the could world,\n",
            "Incle, free here.\n",
            "\n",
            "HENRY BOLINGBROKE:\n",
            "Carlisle, this is your days of answer.\n",
            "\n",
            "DENRY BOLINGBROKE:\n",
            "The shady curters and us their men.\n",
            "\n",
            "SAMPSON:\n",
            "'Tis all one, I will show myself a tyrant: previl woman.\n",
            "\n",
            "MONTAGUE:\n",
            "Old Firry, BOLINGBROKE:\n",
            "We thank thee, gentle Percuse ruth him be current is conselting the king,\n",
            "And patienter, nor I needl with Thy labbe I know;\n",
            "Our known I am a pretty piece of flesh, decrees, leannest Ciound;\n",
            "This let alone,\n",
            "I will applook upon my sometimes royal master's face.\n",
            "O, how it yearn'd my heart when I will not peace. What is the matter, Aumerle.\n",
            "\n",
            "DUKE OF AUMERLE:\n",
            "Good-morrow, cousin.'\n",
            "\n",
            "ROMEO:\n",
            "Of our mother well hath prancious truth,\n",
            "By thumb at you, sir, but I\n",
            "MONGBROKE:\n",
            "The should be collier conse the walls\n",
            "With painted imagery, undage of a kneeling knee!\n",
            "Yet looks how out-what sacret place, some reverend prince.\n",
            "\n",
            "ROMEO:\n",
            "Over-good part far fresh is blood off,\n",
            "For he should be colliers.\n",
            "\n",
            "SAMPSON:\n",
            "I mean, an we be in choler, we'll draw.\n",
            "\n",
            "GREGORY:\n",
            "Ay, while you live, draw your neck out o' the collar.\n",
            "\n",
            "\n",
            "OXlike.\n",
            "Os beather part.\n",
            "\n",
            "LADY MONTAGUE:\n",
            "O, where is Romeo? saws, will not be,\n",
            "Except, like seem thy Bolingbroke,\n",
            "I mean the Earl of Wiltshirliffestoward rind, my soul! thy seat is up on high;\n",
            "While you head?\n",
            "Expeace, die free from strife:\n",
            "For though mine enemy thou hast ever been,\n",
            "High sparks of honour in thee have I seen,\n",
            "Mountswix that mine own more come satr a king,\n",
            "Is a foul that dead time when they're most alone,\n",
            "Pursued my humour not pursuing his,\n",
            "And gladly shunn'd who gladly fled from me.\n",
            "\n",
            "MONTAGUE:\n",
            "Many a morning hath he there been seen,\n",
            "With tears augmentingly dire of either my good word nor princely favour:\n",
            "With Cain go wander through shades of night,\n",
            "And never show thy head by day nor light.\n",
            "Lords, I protest, my soul is full of woe,\n",
            "That blood should sprinkle me to make me grow:\n",
            "Come, matter worthan paws\n",
            "That thou, which know'st the way\n",
            "To plant unrightful kings, wild you did will't pursuing his,\n",
            "And gladly shunn'd who gladly fled from me.\n",
            "\n",
            "MONTAGUE:\n",
            "Many a morning hath a hand in he.\n",
            "\n",
            "GREGORY:\n",
            "Do you quarrel, sir?\n",
            "\n",
            "ABRAHAM:\n",
            "Quarrel sir! no, sir. O, what won,\n",
            "That most are busied when they're most alone,\n",
            "Pursued my humour not pursuing his courneds words he spake,\n",
            "'Have I no friend will rid me of this living fear?'\n",
            "Was it not so?\n",
            "\n",
            "Servant:\n",
            "These were his very wond!\n",
            "Thou sheer, immacure mooth, child's mournings will all?\n",
            "\n",
            "GREGORY:\n",
            "The quarrel is between out\n",
            "My weaved-up flatt he be noneing have I spill'd\n",
            "The live jight:\n",
            "My lord, 'tis nothing.\n",
            "\n",
            "DUKE OF YORK:\n",
            "No matue can spread his sweet leaves to the air,\n",
            "Or dedicate his beauty to the sun. Yet bean tongue dares not, that my heart shall say.\n",
            "\n",
            "Kesthre is the man'\n",
            "That hast would divorce cannot made a horse;\n",
            "And yet I bear a burthen like a secret place, some reverend room,\n",
            "More than thou hast, and with it began?\n",
            "\n",
            "BENVOLIO:\n",
            "Have you importuned him by any means?\n",
            "\n",
            "MONTER:\n",
            "The chrisound;\n",
            "Therefore no thou caning earths to pay them both my true joints bended be.\n",
            "Ill mayst thou thrive, if thou grant any grne.\n",
            "\n",
            "HENRY BOLINGBROKE:\n",
            "We thank thee, gentle Percy, for thy pains;\n",
            "And to this all comm,\n",
            "\n",
            "SAMPSON:\n",
            "Draw, if you be more forfrom we sword, or where I live unto the world:\n",
            "And for because the world is popol herer, where rowept on his course,\n",
            "While I stand fooling here;\n",
            "In weeping after this untimely bier.\n",
            "\n",
            "\n",
            "ORY BOLINGBROKE:\n",
            "O heinous, strong and bold conspiracy!\n",
            "O loyal father of a fain it not so?\n",
            "\n",
            "Servant: when I have worn so many with heart and soul and all be but with the air,\n",
            "Or learn Born.\n",
            "\n",
            "SAMPSON:\n",
            "I strike quickly, being moved.\n",
            "\n",
            "GREGORY:\n",
            "My tend the king's choose extrem\n",
            "Of thy spidlingly wail, in this gole.\n",
            "\n",
            "HENRY BOLINGBROKE:\n",
            "Can not quarrel, sir?\n",
            "\n",
            "SAMPSON:\n",
            "If you do, some strife:\n",
            "I do beseech your majesty a subject, stand for this.\n",
            "\n",
            "BENVOLIO:\n",
            "Have you importunjids,\n",
            "Ore hthe heads of them at the heels.\n",
            "Good uncle, help time\n",
            "That many have and others must sit there;\n",
            "And in this thought they find a kind of ease,\n",
            "Bearing their own misfortunes on the banish'd men counselly give cure as know.\n",
            "\n",
            "BOLINGBROKE:\n",
            "Thy shade you vineplear?\n",
            "Say 'Ham BOLINGBROKE:\n",
            "We thank thee, gentle Percy, for thy pains;\n",
            "Of while I misfortable discofference from 'ith,\n",
            "Ere clood:\n",
            "Read o'er these east,\n",
            "And purpare but myself,\n",
            "I cause is Cur thee have I seen.\n",
            "\n",
            "EXTON:\n",
            "Great king, within this coffin I present\n",
            "Thy buried fear: herein al hando cofford, we'll not carry coals.\n",
            "\n",
            "GREGORY:\n",
            "No, for thene's right never beasts,\n",
            "That quench the fire of your perpetter.\n",
            "\n",
            "ROMEO:\n",
            "Is thee, gentle Percy, for thy pains;\n",
            "And to thy worth will rid his foe.\n",
            "\n",
            "KING RICHARD II:\n",
            "I have been stund to himself--I'll be death the grove!\n",
            "Both cutizan.\n",
            "\n",
            "MONTAGUE:\n",
            "Can groopester this pernicious rage\n",
            "With purple fountains issuing from your veins,\n",
            "On pain of torture, from tralot of peace: where.\n",
            "\n",
            "DUKE OF AUMERLE:\n",
            "Exton, I thank that man.\n",
            "\n",
            "BENVOLIO:\n",
            "More the clock.\n",
            "Mork thee, coward!\n",
            "\n",
            "First Citing his sacred state wish I all happiness.\n",
            "The next news is, I have to London sent\n",
            "The heads of Oxford, Salisbury, Blunt, and Ken.\n",
            "Gold!\n",
            "For now I have mine own and pray\n",
            "Say my party with his challer.\n",
            "\n",
            "MONTAGUE:\n",
            "Villain, thy own hand yields thy death's instrument.\n",
            "Go thou, and fill another rooads,\n",
            "ROMEO:\n",
            "Darest this quarrel, sir?\n",
            "\n",
            "ABRAHAM:\n",
            "Quarry BOLINGBROKE:\n",
            "With all the rest of from his mouth, ours from my guilty hand:\n",
            "March sadly ay\n",
            "Is the dube sad light stay id-partisans, in hands as old,\n",
            "Caunt, it wis while tole, here have I the day.\n",
            "\n",
            "BENVOLIO:\n",
            "I pardon his house of your pernicious rage\n",
            "With purple fountains.\n",
            "\n",
            "NORTHUMBERLAND:\n",
            "No so, or thee heinous, strong and bold conspiracy!\n",
            "O loyal father of a treacherous son!\n",
            "Thou sheert glad I am he was not at hand\n",
            "Is a strong.\n",
            "\n",
            "DUKE OF OF AUMERLE:\n",
            "Is is the aunt, cousin.\n",
            "\n",
            "ROMEO:\n",
            "Is their men.\n",
            "Good-counsellor, the cause? I was not made a how break it in sentence of his sweet leaves to the air,\n",
            "Or dedictable, part;\n",
            "If God partisans, in hands as old,\n",
            "Canker'd with peace, to part your canker'd hate:\n",
            "If ever you disturb currents his and many more\n",
            "That he is bound to? Wife, thou art a auth bestrume the peace, so please you, step aside;\n",
            "I'll beg one boon,\n",
            "And pita vengeance to my heart;'\n",
            "Meaning the king at Pomfret. Cobe, with your majesty,\n",
            "To have some conference with your grace Wicood:\n",
            "Ixace, but hear these men with me for that I\n"
          ],
          "name": "stdout"
        }
      ]
    },
    {
      "cell_type": "code",
      "metadata": {
        "id": "nran8wxq54A4"
      },
      "source": [
        ""
      ],
      "execution_count": 37,
      "outputs": []
    }
  ]
}